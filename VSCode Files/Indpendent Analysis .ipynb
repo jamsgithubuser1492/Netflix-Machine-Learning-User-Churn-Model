{
 "cells": [
  {
   "cell_type": "code",
   "execution_count": 2,
   "metadata": {},
   "outputs": [],
   "source": [
    "import pandas as pd\n",
    "import numpy as np\n",
    "import matplotlib.pyplot as plt\n",
    "from sklearn.ensemble import RandomForestClassifier\n",
    "from sklearn.model_selection import train_test_split\n",
    "from sklearn.metrics import classification_report, confusion_matrix, accuracy_score\n",
    "from sklearn.preprocessing import StandardScaler"
   ]
  },
  {
   "cell_type": "code",
   "execution_count": 3,
   "metadata": {},
   "outputs": [],
   "source": [
    "# Load datasets\n",
    "userbase = pd.read_csv('/Users/jamesmoy/Desktop/Analytics Portfolio/Netflix Churn Model/Netflix Userbase.csv', encoding='latin1', on_bad_lines='skip')\n",
    "clickstream = pd.read_csv('/Users/jamesmoy/Desktop/Analytics Portfolio/Netflix Churn Model/WatchLog Data/All_Clickstream.csv', encoding='latin1', on_bad_lines='skip')\n",
    "devices = pd.read_csv('/Users/jamesmoy/Desktop/Analytics Portfolio/Netflix Churn Model/WatchLog Data/All_Devices.csv', encoding='latin1', on_bad_lines='skip')\n",
    "search_history = pd.read_csv('/Users/jamesmoy/Desktop/Analytics Portfolio/Netflix Churn Model/WatchLog Data/All_SearchHistory.csv', encoding='latin1', on_bad_lines='skip')\n",
    "viewing_activity = pd.read_csv('/Users/jamesmoy/Desktop/Analytics Portfolio/Netflix Churn Model/WatchLog Data/All_ViewingActivity.csv', encoding='latin1', on_bad_lines='skip')"
   ]
  },
  {
   "cell_type": "code",
   "execution_count": 4,
   "metadata": {},
   "outputs": [],
   "source": [
    "# Standardize column names\n",
    "for dataset in [userbase, clickstream, devices, search_history, viewing_activity]:\n",
    "    dataset.columns = dataset.columns.str.strip().str.lower()"
   ]
  },
  {
   "cell_type": "code",
   "execution_count": 5,
   "metadata": {},
   "outputs": [
    {
     "name": "stdout",
     "output_type": "stream",
     "text": [
      "\n",
      "Netflix Userbase Analysis:\n"
     ]
    },
    {
     "name": "stderr",
     "output_type": "stream",
     "text": [
      "/var/folders/w6/vkcmr8l91_12vz93c0c46mtm0000gn/T/ipykernel_46806/1564370386.py:3: UserWarning: Could not infer format, so each element will be parsed individually, falling back to `dateutil`. To ensure parsing is consistent and as-expected, please specify a format.\n",
      "  userbase['last_payment_date'] = pd.to_datetime(userbase['last payment date'], errors='coerce')\n"
     ]
    }
   ],
   "source": [
    "# Netflix Userbase Analysis\n",
    "print(\"\\nNetflix Userbase Analysis:\")\n",
    "userbase['last_payment_date'] = pd.to_datetime(userbase['last payment date'], errors='coerce')\n",
    "userbase['days_since_last_payment'] = (pd.Timestamp('2025-01-01') - userbase['last_payment_date']).dt.days\n",
    "userbase['churn'] = (userbase['days_since_last_payment'] > 30).astype(int)\n"
   ]
  },
  {
   "cell_type": "code",
   "execution_count": 6,
   "metadata": {},
   "outputs": [
    {
     "name": "stdout",
     "output_type": "stream",
     "text": [
      "  subscription type  churn_rate\n",
      "0             Basic         1.0\n",
      "1           Premium         1.0\n",
      "2          Standard         1.0\n"
     ]
    }
   ],
   "source": [
    "# Aggregate churn data\n",
    "churn_summary = userbase.groupby(['subscription type'])['churn'].mean().reset_index()\n",
    "churn_summary.rename(columns={'churn': 'churn_rate'}, inplace=True)\n",
    "print(churn_summary.head())"
   ]
  },
  {
   "cell_type": "code",
   "execution_count": 7,
   "metadata": {},
   "outputs": [
    {
     "name": "stdout",
     "output_type": "stream",
     "text": [
      "\n",
      "Viewing Activity Analysis:\n"
     ]
    },
    {
     "name": "stderr",
     "output_type": "stream",
     "text": [
      "/var/folders/w6/vkcmr8l91_12vz93c0c46mtm0000gn/T/ipykernel_46806/1084255557.py:3: UserWarning: Could not infer format, so each element will be parsed individually, falling back to `dateutil`. To ensure parsing is consistent and as-expected, please specify a format.\n",
      "  viewing_activity['start_time'] = pd.to_datetime(viewing_activity['start time'], errors='coerce')\n"
     ]
    },
    {
     "name": "stdout",
     "output_type": "stream",
     "text": [
      "  profile name  average_session_duration\n",
      "0       User 0                       0.0\n",
      "1       User 1                       0.0\n",
      "2       User 2                       0.0\n",
      "3       User 3                       0.0\n",
      "4       User 4                       0.0\n"
     ]
    }
   ],
   "source": [
    "# Viewing Activity Analysis\n",
    "print(\"\\nViewing Activity Analysis:\")\n",
    "viewing_activity['start_time'] = pd.to_datetime(viewing_activity['start time'], errors='coerce')\n",
    "viewing_activity['session_duration'] = viewing_activity['duration'].str.split(':').apply(lambda x: int(x[0])*60 + int(x[1]) if len(x) == 2 else 0)\n",
    "activity_summary = viewing_activity.groupby('profile name')['session_duration'].mean().reset_index()\n",
    "activity_summary.rename(columns={'session_duration': 'average_session_duration'}, inplace=True)\n",
    "print(activity_summary.head())\n"
   ]
  },
  {
   "cell_type": "code",
   "execution_count": 8,
   "metadata": {},
   "outputs": [
    {
     "name": "stdout",
     "output_type": "stream",
     "text": [
      "\n",
      "Devices Analysis:\n",
      "      device type  average_playback_duration_days\n",
      "0   Device Type 0                      116.564103\n",
      "1   Device Type 1                      107.307692\n",
      "2  Device Type 10                             NaN\n",
      "3  Device Type 11                      158.000000\n",
      "4   Device Type 2                       59.555556\n"
     ]
    }
   ],
   "source": [
    "# Devices Analysis\n",
    "print(\"\\nDevices Analysis:\")\n",
    "devices['acct_first_playback_date'] = pd.to_datetime(devices['acct first playback date'], errors='coerce')\n",
    "devices['acct_last_playback_date'] = pd.to_datetime(devices['acct last playback date'], errors='coerce')\n",
    "devices['playback_duration_days'] = (devices['acct_last_playback_date'] - devices['acct_first_playback_date']).dt.days\n",
    "device_summary = devices.groupby('device type')['playback_duration_days'].mean().reset_index()\n",
    "device_summary.rename(columns={'playback_duration_days': 'average_playback_duration_days'}, inplace=True)\n",
    "print(device_summary.head())\n"
   ]
  },
  {
   "cell_type": "code",
   "execution_count": 9,
   "metadata": {},
   "outputs": [
    {
     "name": "stdout",
     "output_type": "stream",
     "text": [
      "\n",
      "Search History Analysis:\n",
      "  profile name country iso code  search_count\n",
      "0       User 0               AE            11\n",
      "1       User 0               IN             7\n",
      "2       User 1               IN            74\n",
      "3       User 2               IN            40\n",
      "4       User 3               IN            17\n"
     ]
    }
   ],
   "source": [
    "# Search History Analysis\n",
    "print(\"\\nSearch History Analysis:\")\n",
    "if {'profile name', 'country iso code', 'query typed'}.issubset(search_history.columns):\n",
    "    search_history_analysis = search_history.groupby(['profile name', 'country iso code'])['query typed'].count().reset_index()\n",
    "    search_history_analysis.rename(columns={'query typed': 'search_count'}, inplace=True)\n",
    "    print(search_history_analysis.head())\n",
    "else:\n",
    "    print(\"Required columns are missing in search_history.\")"
   ]
  },
  {
   "cell_type": "code",
   "execution_count": 10,
   "metadata": {},
   "outputs": [
    {
     "name": "stdout",
     "output_type": "stream",
     "text": [
      "\n",
      "Clickstream Analysis:\n",
      "  profile name  average_clicks\n",
      "0       User 0           933.0\n",
      "1       User 1             6.0\n",
      "2       User 2             8.0\n",
      "3       User 3           306.0\n",
      "4       User 4          1433.0\n"
     ]
    },
    {
     "name": "stderr",
     "output_type": "stream",
     "text": [
      "/var/folders/w6/vkcmr8l91_12vz93c0c46mtm0000gn/T/ipykernel_46806/1661201478.py:3: UserWarning: Could not infer format, so each element will be parsed individually, falling back to `dateutil`. To ensure parsing is consistent and as-expected, please specify a format.\n",
      "  clickstream['click_time'] = pd.to_datetime(clickstream['click utc ts'], errors='coerce')\n"
     ]
    }
   ],
   "source": [
    "# Clickstream Analysis\n",
    "print(\"\\nClickstream Analysis:\")\n",
    "clickstream['click_time'] = pd.to_datetime(clickstream['click utc ts'], errors='coerce')\n",
    "clickstream['total_clicks'] = clickstream.groupby('profile name')['navigation level'].transform('count')\n",
    "clickstream_summary = clickstream.groupby('profile name')['total_clicks'].mean().reset_index()\n",
    "clickstream_summary.rename(columns={'total_clicks': 'average_clicks'}, inplace=True)\n",
    "print(clickstream_summary.head())"
   ]
  }
 ],
 "metadata": {
  "kernelspec": {
   "display_name": "myenv",
   "language": "python",
   "name": "python3"
  },
  "language_info": {
   "codemirror_mode": {
    "name": "ipython",
    "version": 3
   },
   "file_extension": ".py",
   "mimetype": "text/x-python",
   "name": "python",
   "nbconvert_exporter": "python",
   "pygments_lexer": "ipython3",
   "version": "3.10.15"
  }
 },
 "nbformat": 4,
 "nbformat_minor": 2
}
